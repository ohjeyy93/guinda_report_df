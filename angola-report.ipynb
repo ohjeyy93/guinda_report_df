{
 "cells": [
  {
   "cell_type": "code",
   "execution_count": 18,
   "id": "64fac86a-1005-4e2e-ab1d-93b522bd8056",
   "metadata": {},
   "outputs": [
    {
     "name": "stdout",
     "output_type": "stream",
     "text": [
      "{'19ANBe': 'exist', '19ANLS': 'exist', '19ANZa': 'exist'}\n",
      "Number of pools 19ANBe 22\n",
      "sum of pools 19ANBe 253.0\n",
      "Number of pools 19ANLS 21\n",
      "sum of pools 19ANLS 231.0\n",
      "Number of pools 19ANZa 22\n",
      "sum of pools 19ANZa 253.0\n",
      "individual samples 19ANBe 188\n",
      "individual samples 19ANLS 309\n",
      "individual samples 19ANZa 613\n"
     ]
    }
   ],
   "source": [
    "dicttest={}\n",
    "dicttestind={}\n",
    "\n",
    "dictcat={}\n",
    "with open(\"AN19_pooled_EPI.csv\", \"r\") as r1:\n",
    "    for lines in r1:\n",
    "        if lines[0:2].isdigit() and \"xx\" not in lines.split(\",\")[0]:\n",
    "            dictcat[lines[0:6]]=\"exist\"\n",
    "with open(\"AN19_individual_EPI.csv\", \"r\") as r2:\n",
    "    for lines in r2:\n",
    "        if lines[0:2].isdigit() and \"xx\" not in lines.split(\",\")[0]:\n",
    "            dictcat[lines[0:6]]=\"exist\"\n",
    "\n",
    "print(dictcat)\n",
    "\n",
    "for items in dictcat:\n",
    "    #print(items)\n",
    "    dicttest={}\n",
    "    with open(\"AN19_pooled_EPI.csv\", \"r\") as r1:\n",
    "        for lines in r1:\n",
    "            #print(lines)\n",
    "            if items in lines:\n",
    "                #print(items)\n",
    "                if \"pooled\" in lines:\n",
    "                    dicttest[lines.split(\",\")[0]]=lines.split(\",\")[12]\n",
    "        sumpooled=0\n",
    "        countpooled=0\n",
    "        #print(dicttest)\n",
    "        for item in dicttest:\n",
    "            #print(dicttest[item])\n",
    "            countpooled+=1\n",
    "            sumpooled+=float(dicttest[item])\n",
    "        print(\"Number of pools\", items, countpooled)\n",
    "        print(\"sum of pools\", items, sumpooled)\n",
    "#print(dicttestind)\n",
    "for items in dictcat:\n",
    "    dicttestind={}\n",
    "    with open(\"AN19_individual_EPI.csv\", \"r\") as r2:\n",
    "        for lines in r2:\n",
    "            if items in lines:\n",
    "                if \"individual\" in lines:    \n",
    "                    #print(lines)\n",
    "                    #print(lines.split(\",\")[0])\n",
    "                    #print(lines.split(\",\")[0])\n",
    "                    #print(lines.split(\",\")[0])\n",
    "                    #print(\"19GNDo00A0134PfF1290\" in lines)\n",
    "                    dicttestind[lines.split(\",\")[0]]=\"exist\"\n",
    "        countindividual=0\n",
    "        for item in dicttestind:\n",
    "            #print(item)\n",
    "            countindividual+=1\n",
    "        print(\"individual samples\", items, countindividual)    \n",
    "                                      \n"
   ]
  },
  {
   "cell_type": "code",
   "execution_count": null,
   "id": "2eaf1c86-8586-4dfe-a541-41fb519cab20",
   "metadata": {},
   "outputs": [],
   "source": []
  }
 ],
 "metadata": {
  "kernelspec": {
   "display_name": "Python 3",
   "language": "python",
   "name": "python3"
  },
  "language_info": {
   "codemirror_mode": {
    "name": "ipython",
    "version": 3
   },
   "file_extension": ".py",
   "mimetype": "text/x-python",
   "name": "python",
   "nbconvert_exporter": "python",
   "pygments_lexer": "ipython3",
   "version": "3.6.8"
  }
 },
 "nbformat": 4,
 "nbformat_minor": 5
}
