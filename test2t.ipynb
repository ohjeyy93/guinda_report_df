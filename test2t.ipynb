{
 "cells": [
  {
   "cell_type": "code",
   "execution_count": 3,
   "id": "64fac86a-1005-4e2e-ab1d-93b522bd8056",
   "metadata": {},
   "outputs": [
    {
     "name": "stdout",
     "output_type": "stream",
     "text": [
      "47\n"
     ]
    }
   ],
   "source": [
    "with open(\"test2.csv\", \"r\") as r1:\n",
    "    dicttest={}\n",
    "    for lines in r1:\n",
    "        if \"18\" in lines:\n",
    "            if \"Ma\" in lines:\n",
    "                if \"pooled\" in lines:\n",
    "                    dicttest[lines.split(\",\")[0]]=lines.split(\",\")[13]\n",
    "countpooled=0\n",
    "sumpooled=0\n",
    "for item in dicttest:\n",
    "    countpooled+=dicttest[item]\n",
    "print(countpooled)"
   ]
  },
  {
   "cell_type": "code",
   "execution_count": null,
   "id": "2eaf1c86-8586-4dfe-a541-41fb519cab20",
   "metadata": {},
   "outputs": [],
   "source": []
  }
 ],
 "metadata": {
  "kernelspec": {
   "display_name": "Python 3 (ipykernel)",
   "language": "python",
   "name": "python3"
  },
  "language_info": {
   "codemirror_mode": {
    "name": "ipython",
    "version": 3
   },
   "file_extension": ".py",
   "mimetype": "text/x-python",
   "name": "python",
   "nbconvert_exporter": "python",
   "pygments_lexer": "ipython3",
   "version": "3.8.10"
  }
 },
 "nbformat": 4,
 "nbformat_minor": 5
}
